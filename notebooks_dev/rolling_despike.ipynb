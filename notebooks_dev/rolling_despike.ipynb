{
 "cells": [
  {
   "cell_type": "markdown",
   "metadata": {},
   "source": [
    "#### Objective"
   ]
  },
  {
   "cell_type": "markdown",
   "metadata": {},
   "source": [
    "In this notebook I introduce a function to despike logs using rolling statistics to define the what constitutes a spike, and what does not.\n",
    "\n",
    "I will apply the despiking to the P-wave velocity from one of the wells already used in the [Backusfrom dataframe notebook](https://github.com/mycarta/in-bruges/blob/master/notebooks/Backus_from_dataframe.ipynb).\n"
   ]
  },
  {
   "cell_type": "markdown",
   "metadata": {},
   "source": [
    "#### Import libraries"
   ]
  },
  {
   "cell_type": "code",
   "execution_count": 1,
   "metadata": {},
   "outputs": [],
   "source": [
    "import numpy as np\n",
    "import pandas as pd\n",
    "from welly import Project, Well\n",
    "import matplotlib.pyplot as plt"
   ]
  },
  {
   "cell_type": "markdown",
   "metadata": {},
   "source": [
    "#### Import well"
   ]
  },
  {
   "cell_type": "code",
   "execution_count": 2,
   "metadata": {},
   "outputs": [],
   "source": [
    "R39 = Well.from_las('../data/R-39.las')"
   ]
  },
  {
   "cell_type": "markdown",
   "metadata": {},
   "source": [
    "#### Data clean-up and manipulation"
   ]
  },
  {
   "cell_type": "markdown",
   "metadata": {},
   "source": [
    "- Make dataframe\n",
    "- Deal with null values\n",
    "- Select columns of interest\n",
    "- Convert slowness to velocity\n",
    "- Add well name column"
   ]
  },
  {
   "cell_type": "markdown",
   "metadata": {},
   "source": [
    "Make dataframe"
   ]
  },
  {
   "cell_type": "code",
   "execution_count": 3,
   "metadata": {},
   "outputs": [
    {
     "data": {
      "text/html": [
       "<div>\n",
       "<style scoped>\n",
       "    .dataframe tbody tr th:only-of-type {\n",
       "        vertical-align: middle;\n",
       "    }\n",
       "\n",
       "    .dataframe tbody tr th {\n",
       "        vertical-align: top;\n",
       "    }\n",
       "\n",
       "    .dataframe thead th {\n",
       "        text-align: right;\n",
       "    }\n",
       "</style>\n",
       "<table border=\"1\" class=\"dataframe\">\n",
       "  <thead>\n",
       "    <tr style=\"text-align: right;\">\n",
       "      <th></th>\n",
       "      <th>DT</th>\n",
       "      <th>DTS</th>\n",
       "      <th>RHOB</th>\n",
       "    </tr>\n",
       "  </thead>\n",
       "  <tbody>\n",
       "    <tr>\n",
       "      <th>count</th>\n",
       "      <td>7843.000000</td>\n",
       "      <td>7843.000000</td>\n",
       "      <td>7843.000000</td>\n",
       "    </tr>\n",
       "    <tr>\n",
       "      <th>mean</th>\n",
       "      <td>279.843323</td>\n",
       "      <td>455.340913</td>\n",
       "      <td>2493.556531</td>\n",
       "    </tr>\n",
       "    <tr>\n",
       "      <th>std</th>\n",
       "      <td>25.963527</td>\n",
       "      <td>439.113290</td>\n",
       "      <td>114.662210</td>\n",
       "    </tr>\n",
       "    <tr>\n",
       "      <th>min</th>\n",
       "      <td>166.347500</td>\n",
       "      <td>-3278.379200</td>\n",
       "      <td>2050.229000</td>\n",
       "    </tr>\n",
       "    <tr>\n",
       "      <th>25%</th>\n",
       "      <td>262.778350</td>\n",
       "      <td>461.351100</td>\n",
       "      <td>2450.387250</td>\n",
       "    </tr>\n",
       "    <tr>\n",
       "      <th>50%</th>\n",
       "      <td>284.251700</td>\n",
       "      <td>515.766000</td>\n",
       "      <td>2505.075000</td>\n",
       "    </tr>\n",
       "    <tr>\n",
       "      <th>75%</th>\n",
       "      <td>299.587350</td>\n",
       "      <td>555.725100</td>\n",
       "      <td>2569.123050</td>\n",
       "    </tr>\n",
       "    <tr>\n",
       "      <th>max</th>\n",
       "      <td>348.946300</td>\n",
       "      <td>590.522000</td>\n",
       "      <td>3144.669700</td>\n",
       "    </tr>\n",
       "  </tbody>\n",
       "</table>\n",
       "</div>"
      ],
      "text/plain": [
       "                DT          DTS         RHOB\n",
       "count  7843.000000  7843.000000  7843.000000\n",
       "mean    279.843323   455.340913  2493.556531\n",
       "std      25.963527   439.113290   114.662210\n",
       "min     166.347500 -3278.379200  2050.229000\n",
       "25%     262.778350   461.351100  2450.387250\n",
       "50%     284.251700   515.766000  2505.075000\n",
       "75%     299.587350   555.725100  2569.123050\n",
       "max     348.946300   590.522000  3144.669700"
      ]
     },
     "execution_count": 3,
     "metadata": {},
     "output_type": "execute_result"
    }
   ],
   "source": [
    "w39_df = R39.df()\n",
    "w39_df = w39_df[['DT4P', 'DT4S', 'RHOB']]\n",
    "w39_df.columns = ['DT', 'DTS', 'RHOB']\n",
    "w39_df.describe(include = 'all')"
   ]
  },
  {
   "cell_type": "markdown",
   "metadata": {},
   "source": [
    "Checking well R-39 for null values"
   ]
  },
  {
   "cell_type": "code",
   "execution_count": 4,
   "metadata": {},
   "outputs": [
    {
     "name": "stdout",
     "output_type": "stream",
     "text": [
      "DT False\n",
      "DTS False\n",
      "RHOB False\n",
      "DT      0\n",
      "DTS     0\n",
      "RHOB    0\n",
      "dtype: int64\n"
     ]
    }
   ],
   "source": [
    "for x in w39_df.columns:\n",
    "    print (x, w39_df[x].isnull().values.any())\n",
    "    \n",
    "print(w39_df.isnull().sum()) # finds how many missing points there are"
   ]
  },
  {
   "cell_type": "markdown",
   "metadata": {},
   "source": [
    "There are no null values."
   ]
  },
  {
   "cell_type": "markdown",
   "metadata": {},
   "source": [
    "Convert slowness to velocity (usec/m >> m/s)"
   ]
  },
  {
   "cell_type": "code",
   "execution_count": 5,
   "metadata": {},
   "outputs": [
    {
     "data": {
      "text/html": [
       "<div>\n",
       "<style scoped>\n",
       "    .dataframe tbody tr th:only-of-type {\n",
       "        vertical-align: middle;\n",
       "    }\n",
       "\n",
       "    .dataframe tbody tr th {\n",
       "        vertical-align: top;\n",
       "    }\n",
       "\n",
       "    .dataframe thead th {\n",
       "        text-align: right;\n",
       "    }\n",
       "</style>\n",
       "<table border=\"1\" class=\"dataframe\">\n",
       "  <thead>\n",
       "    <tr style=\"text-align: right;\">\n",
       "      <th></th>\n",
       "      <th>DT</th>\n",
       "      <th>DTS</th>\n",
       "      <th>RHOB</th>\n",
       "      <th>Vp</th>\n",
       "      <th>Vs</th>\n",
       "    </tr>\n",
       "  </thead>\n",
       "  <tbody>\n",
       "    <tr>\n",
       "      <th>count</th>\n",
       "      <td>7843.000000</td>\n",
       "      <td>7843.000000</td>\n",
       "      <td>7843.000000</td>\n",
       "      <td>7843.000000</td>\n",
       "      <td>7843.000000</td>\n",
       "    </tr>\n",
       "    <tr>\n",
       "      <th>mean</th>\n",
       "      <td>279.843323</td>\n",
       "      <td>455.340913</td>\n",
       "      <td>2493.556531</td>\n",
       "      <td>3607.216564</td>\n",
       "      <td>1977.281811</td>\n",
       "    </tr>\n",
       "    <tr>\n",
       "      <th>std</th>\n",
       "      <td>25.963527</td>\n",
       "      <td>439.113290</td>\n",
       "      <td>114.662210</td>\n",
       "      <td>367.703324</td>\n",
       "      <td>377.646396</td>\n",
       "    </tr>\n",
       "    <tr>\n",
       "      <th>min</th>\n",
       "      <td>166.347500</td>\n",
       "      <td>-3278.379200</td>\n",
       "      <td>2050.229000</td>\n",
       "      <td>2865.770464</td>\n",
       "      <td>-305.028778</td>\n",
       "    </tr>\n",
       "    <tr>\n",
       "      <th>25%</th>\n",
       "      <td>262.778350</td>\n",
       "      <td>461.351100</td>\n",
       "      <td>2450.387250</td>\n",
       "      <td>3337.924649</td>\n",
       "      <td>1791.625370</td>\n",
       "    </tr>\n",
       "    <tr>\n",
       "      <th>50%</th>\n",
       "      <td>284.251700</td>\n",
       "      <td>515.766000</td>\n",
       "      <td>2505.075000</td>\n",
       "      <td>3518.008863</td>\n",
       "      <td>1932.638279</td>\n",
       "    </tr>\n",
       "    <tr>\n",
       "      <th>75%</th>\n",
       "      <td>299.587350</td>\n",
       "      <td>555.725100</td>\n",
       "      <td>2569.123050</td>\n",
       "      <td>3805.488542</td>\n",
       "      <td>2141.848409</td>\n",
       "    </tr>\n",
       "    <tr>\n",
       "      <th>max</th>\n",
       "      <td>348.946300</td>\n",
       "      <td>590.522000</td>\n",
       "      <td>3144.669700</td>\n",
       "      <td>6011.512046</td>\n",
       "      <td>3392.929000</td>\n",
       "    </tr>\n",
       "  </tbody>\n",
       "</table>\n",
       "</div>"
      ],
      "text/plain": [
       "                DT          DTS         RHOB           Vp           Vs\n",
       "count  7843.000000  7843.000000  7843.000000  7843.000000  7843.000000\n",
       "mean    279.843323   455.340913  2493.556531  3607.216564  1977.281811\n",
       "std      25.963527   439.113290   114.662210   367.703324   377.646396\n",
       "min     166.347500 -3278.379200  2050.229000  2865.770464  -305.028778\n",
       "25%     262.778350   461.351100  2450.387250  3337.924649  1791.625370\n",
       "50%     284.251700   515.766000  2505.075000  3518.008863  1932.638279\n",
       "75%     299.587350   555.725100  2569.123050  3805.488542  2141.848409\n",
       "max     348.946300   590.522000  3144.669700  6011.512046  3392.929000"
      ]
     },
     "execution_count": 5,
     "metadata": {},
     "output_type": "execute_result"
    }
   ],
   "source": [
    "w39_df['Vp'] = 1.0e6 / w39_df['DT'] \n",
    "w39_df['Vs'] = 1.0e6 / w39_df['DTS'] \n",
    "w39_df.describe(include = 'all')"
   ]
  },
  {
   "cell_type": "markdown",
   "metadata": {},
   "source": [
    "Add well name column"
   ]
  },
  {
   "cell_type": "code",
   "execution_count": 6,
   "metadata": {},
   "outputs": [
    {
     "data": {
      "text/html": [
       "<div>\n",
       "<style scoped>\n",
       "    .dataframe tbody tr th:only-of-type {\n",
       "        vertical-align: middle;\n",
       "    }\n",
       "\n",
       "    .dataframe tbody tr th {\n",
       "        vertical-align: top;\n",
       "    }\n",
       "\n",
       "    .dataframe thead th {\n",
       "        text-align: right;\n",
       "    }\n",
       "</style>\n",
       "<table border=\"1\" class=\"dataframe\">\n",
       "  <thead>\n",
       "    <tr style=\"text-align: right;\">\n",
       "      <th></th>\n",
       "      <th>DT</th>\n",
       "      <th>DTS</th>\n",
       "      <th>RHOB</th>\n",
       "      <th>Vp</th>\n",
       "      <th>Vs</th>\n",
       "      <th>DEPTH</th>\n",
       "      <th>well</th>\n",
       "    </tr>\n",
       "  </thead>\n",
       "  <tbody>\n",
       "    <tr>\n",
       "      <th>count</th>\n",
       "      <td>7843.000000</td>\n",
       "      <td>7843.000000</td>\n",
       "      <td>7843.000000</td>\n",
       "      <td>7843.000000</td>\n",
       "      <td>7843.000000</td>\n",
       "      <td>7843.000000</td>\n",
       "      <td>7843</td>\n",
       "    </tr>\n",
       "    <tr>\n",
       "      <th>unique</th>\n",
       "      <td>NaN</td>\n",
       "      <td>NaN</td>\n",
       "      <td>NaN</td>\n",
       "      <td>NaN</td>\n",
       "      <td>NaN</td>\n",
       "      <td>NaN</td>\n",
       "      <td>1</td>\n",
       "    </tr>\n",
       "    <tr>\n",
       "      <th>top</th>\n",
       "      <td>NaN</td>\n",
       "      <td>NaN</td>\n",
       "      <td>NaN</td>\n",
       "      <td>NaN</td>\n",
       "      <td>NaN</td>\n",
       "      <td>NaN</td>\n",
       "      <td>R-39</td>\n",
       "    </tr>\n",
       "    <tr>\n",
       "      <th>freq</th>\n",
       "      <td>NaN</td>\n",
       "      <td>NaN</td>\n",
       "      <td>NaN</td>\n",
       "      <td>NaN</td>\n",
       "      <td>NaN</td>\n",
       "      <td>NaN</td>\n",
       "      <td>7843</td>\n",
       "    </tr>\n",
       "    <tr>\n",
       "      <th>mean</th>\n",
       "      <td>279.843323</td>\n",
       "      <td>455.340913</td>\n",
       "      <td>2493.556531</td>\n",
       "      <td>3607.216564</td>\n",
       "      <td>1977.281811</td>\n",
       "      <td>2790.596400</td>\n",
       "      <td>NaN</td>\n",
       "    </tr>\n",
       "    <tr>\n",
       "      <th>std</th>\n",
       "      <td>25.963527</td>\n",
       "      <td>439.113290</td>\n",
       "      <td>114.662210</td>\n",
       "      <td>367.703324</td>\n",
       "      <td>377.646396</td>\n",
       "      <td>345.067648</td>\n",
       "      <td>NaN</td>\n",
       "    </tr>\n",
       "    <tr>\n",
       "      <th>min</th>\n",
       "      <td>166.347500</td>\n",
       "      <td>-3278.379200</td>\n",
       "      <td>2050.229000</td>\n",
       "      <td>2865.770464</td>\n",
       "      <td>-305.028778</td>\n",
       "      <td>2193.036000</td>\n",
       "      <td>NaN</td>\n",
       "    </tr>\n",
       "    <tr>\n",
       "      <th>25%</th>\n",
       "      <td>262.778350</td>\n",
       "      <td>461.351100</td>\n",
       "      <td>2450.387250</td>\n",
       "      <td>3337.924649</td>\n",
       "      <td>1791.625370</td>\n",
       "      <td>2491.816200</td>\n",
       "      <td>NaN</td>\n",
       "    </tr>\n",
       "    <tr>\n",
       "      <th>50%</th>\n",
       "      <td>284.251700</td>\n",
       "      <td>515.766000</td>\n",
       "      <td>2505.075000</td>\n",
       "      <td>3518.008863</td>\n",
       "      <td>1932.638279</td>\n",
       "      <td>2790.596400</td>\n",
       "      <td>NaN</td>\n",
       "    </tr>\n",
       "    <tr>\n",
       "      <th>75%</th>\n",
       "      <td>299.587350</td>\n",
       "      <td>555.725100</td>\n",
       "      <td>2569.123050</td>\n",
       "      <td>3805.488542</td>\n",
       "      <td>2141.848409</td>\n",
       "      <td>3089.376600</td>\n",
       "      <td>NaN</td>\n",
       "    </tr>\n",
       "    <tr>\n",
       "      <th>max</th>\n",
       "      <td>348.946300</td>\n",
       "      <td>590.522000</td>\n",
       "      <td>3144.669700</td>\n",
       "      <td>6011.512046</td>\n",
       "      <td>3392.929000</td>\n",
       "      <td>3388.156800</td>\n",
       "      <td>NaN</td>\n",
       "    </tr>\n",
       "  </tbody>\n",
       "</table>\n",
       "</div>"
      ],
      "text/plain": [
       "                 DT          DTS         RHOB           Vp           Vs  \\\n",
       "count   7843.000000  7843.000000  7843.000000  7843.000000  7843.000000   \n",
       "unique          NaN          NaN          NaN          NaN          NaN   \n",
       "top             NaN          NaN          NaN          NaN          NaN   \n",
       "freq            NaN          NaN          NaN          NaN          NaN   \n",
       "mean     279.843323   455.340913  2493.556531  3607.216564  1977.281811   \n",
       "std       25.963527   439.113290   114.662210   367.703324   377.646396   \n",
       "min      166.347500 -3278.379200  2050.229000  2865.770464  -305.028778   \n",
       "25%      262.778350   461.351100  2450.387250  3337.924649  1791.625370   \n",
       "50%      284.251700   515.766000  2505.075000  3518.008863  1932.638279   \n",
       "75%      299.587350   555.725100  2569.123050  3805.488542  2141.848409   \n",
       "max      348.946300   590.522000  3144.669700  6011.512046  3392.929000   \n",
       "\n",
       "              DEPTH  well  \n",
       "count   7843.000000  7843  \n",
       "unique          NaN     1  \n",
       "top             NaN  R-39  \n",
       "freq            NaN  7843  \n",
       "mean    2790.596400   NaN  \n",
       "std      345.067648   NaN  \n",
       "min     2193.036000   NaN  \n",
       "25%     2491.816200   NaN  \n",
       "50%     2790.596400   NaN  \n",
       "75%     3089.376600   NaN  \n",
       "max     3388.156800   NaN  "
      ]
     },
     "execution_count": 6,
     "metadata": {},
     "output_type": "execute_result"
    }
   ],
   "source": [
    "w39_df['DEPTH'] = w39_df.index\n",
    "w39_df['well'] = 'R-39'\n",
    "w39_df = w39_df.reset_index(drop=True)\n",
    "w39_df.describe(include = 'all')"
   ]
  },
  {
   "cell_type": "markdown",
   "metadata": {},
   "source": [
    "Drop slownness columns, sort columns"
   ]
  },
  {
   "cell_type": "code",
   "execution_count": 7,
   "metadata": {},
   "outputs": [
    {
     "data": {
      "text/html": [
       "<div>\n",
       "<style scoped>\n",
       "    .dataframe tbody tr th:only-of-type {\n",
       "        vertical-align: middle;\n",
       "    }\n",
       "\n",
       "    .dataframe tbody tr th {\n",
       "        vertical-align: top;\n",
       "    }\n",
       "\n",
       "    .dataframe thead th {\n",
       "        text-align: right;\n",
       "    }\n",
       "</style>\n",
       "<table border=\"1\" class=\"dataframe\">\n",
       "  <thead>\n",
       "    <tr style=\"text-align: right;\">\n",
       "      <th></th>\n",
       "      <th>DEPTH</th>\n",
       "      <th>Vp</th>\n",
       "      <th>Vs</th>\n",
       "      <th>RHOB</th>\n",
       "      <th>well</th>\n",
       "    </tr>\n",
       "  </thead>\n",
       "  <tbody>\n",
       "    <tr>\n",
       "      <th>count</th>\n",
       "      <td>7843.000000</td>\n",
       "      <td>7843.000000</td>\n",
       "      <td>7843.000000</td>\n",
       "      <td>7843.000000</td>\n",
       "      <td>7843</td>\n",
       "    </tr>\n",
       "    <tr>\n",
       "      <th>unique</th>\n",
       "      <td>NaN</td>\n",
       "      <td>NaN</td>\n",
       "      <td>NaN</td>\n",
       "      <td>NaN</td>\n",
       "      <td>1</td>\n",
       "    </tr>\n",
       "    <tr>\n",
       "      <th>top</th>\n",
       "      <td>NaN</td>\n",
       "      <td>NaN</td>\n",
       "      <td>NaN</td>\n",
       "      <td>NaN</td>\n",
       "      <td>R-39</td>\n",
       "    </tr>\n",
       "    <tr>\n",
       "      <th>freq</th>\n",
       "      <td>NaN</td>\n",
       "      <td>NaN</td>\n",
       "      <td>NaN</td>\n",
       "      <td>NaN</td>\n",
       "      <td>7843</td>\n",
       "    </tr>\n",
       "    <tr>\n",
       "      <th>mean</th>\n",
       "      <td>2790.596400</td>\n",
       "      <td>3607.216564</td>\n",
       "      <td>1977.281811</td>\n",
       "      <td>2493.556531</td>\n",
       "      <td>NaN</td>\n",
       "    </tr>\n",
       "    <tr>\n",
       "      <th>std</th>\n",
       "      <td>345.067648</td>\n",
       "      <td>367.703324</td>\n",
       "      <td>377.646396</td>\n",
       "      <td>114.662210</td>\n",
       "      <td>NaN</td>\n",
       "    </tr>\n",
       "    <tr>\n",
       "      <th>min</th>\n",
       "      <td>2193.036000</td>\n",
       "      <td>2865.770464</td>\n",
       "      <td>-305.028778</td>\n",
       "      <td>2050.229000</td>\n",
       "      <td>NaN</td>\n",
       "    </tr>\n",
       "    <tr>\n",
       "      <th>25%</th>\n",
       "      <td>2491.816200</td>\n",
       "      <td>3337.924649</td>\n",
       "      <td>1791.625370</td>\n",
       "      <td>2450.387250</td>\n",
       "      <td>NaN</td>\n",
       "    </tr>\n",
       "    <tr>\n",
       "      <th>50%</th>\n",
       "      <td>2790.596400</td>\n",
       "      <td>3518.008863</td>\n",
       "      <td>1932.638279</td>\n",
       "      <td>2505.075000</td>\n",
       "      <td>NaN</td>\n",
       "    </tr>\n",
       "    <tr>\n",
       "      <th>75%</th>\n",
       "      <td>3089.376600</td>\n",
       "      <td>3805.488542</td>\n",
       "      <td>2141.848409</td>\n",
       "      <td>2569.123050</td>\n",
       "      <td>NaN</td>\n",
       "    </tr>\n",
       "    <tr>\n",
       "      <th>max</th>\n",
       "      <td>3388.156800</td>\n",
       "      <td>6011.512046</td>\n",
       "      <td>3392.929000</td>\n",
       "      <td>3144.669700</td>\n",
       "      <td>NaN</td>\n",
       "    </tr>\n",
       "  </tbody>\n",
       "</table>\n",
       "</div>"
      ],
      "text/plain": [
       "              DEPTH           Vp           Vs         RHOB  well\n",
       "count   7843.000000  7843.000000  7843.000000  7843.000000  7843\n",
       "unique          NaN          NaN          NaN          NaN     1\n",
       "top             NaN          NaN          NaN          NaN  R-39\n",
       "freq            NaN          NaN          NaN          NaN  7843\n",
       "mean    2790.596400  3607.216564  1977.281811  2493.556531   NaN\n",
       "std      345.067648   367.703324   377.646396   114.662210   NaN\n",
       "min     2193.036000  2865.770464  -305.028778  2050.229000   NaN\n",
       "25%     2491.816200  3337.924649  1791.625370  2450.387250   NaN\n",
       "50%     2790.596400  3518.008863  1932.638279  2505.075000   NaN\n",
       "75%     3089.376600  3805.488542  2141.848409  2569.123050   NaN\n",
       "max     3388.156800  6011.512046  3392.929000  3144.669700   NaN"
      ]
     },
     "execution_count": 7,
     "metadata": {},
     "output_type": "execute_result"
    }
   ],
   "source": [
    "w39_df.drop(w39_df.columns[[0, 1]], inplace=True, axis=1) \n",
    "w39_df = w39_df[['DEPTH', 'Vp', 'Vs', 'RHOB', 'well']]    \n",
    "w39_df.describe(include = 'all')"
   ]
  },
  {
   "cell_type": "markdown",
   "metadata": {},
   "source": [
    "#### Despiking"
   ]
  },
  {
   "cell_type": "markdown",
   "metadata": {},
   "source": [
    "Get P-wave velocity as an array"
   ]
  },
  {
   "cell_type": "code",
   "execution_count": 8,
   "metadata": {},
   "outputs": [],
   "source": [
    "s=w39_df['Vp'].values"
   ]
  },
  {
   "cell_type": "markdown",
   "metadata": {},
   "source": [
    "Despiking function"
   ]
  },
  {
   "cell_type": "code",
   "execution_count": 9,
   "metadata": {},
   "outputs": [],
   "source": [
    "def despike(s, w, stds):\n",
    "    \"\"\"\n",
    "    Despikes a curve using rolling statistics.\n",
    "    First, it calculates the rolling median of the input curve on a long window. \n",
    "    Next, it calculates the difference between the median and the input.\n",
    "    Finally, it replaces the input with the median if their difference exceeds the mean difference \n",
    "    plus a user defined number of standard deviations of the difference.\n",
    "    Args:\n",
    "        s = input curve (ndarray)\n",
    "        w = long window length for the rolling median filter (integer)\n",
    "        std = the number of standard deviations to use to flag spikes (integer)\n",
    "        Returns:\n",
    "        out (ndarray) =  despiked curve\n",
    "    \"\"\"\n",
    "    \n",
    "    m = pd.Series(s).rolling(window=w, center=True).median()\n",
    "    flag = np.where(error_flag(pd.Series(s), m, dev = stds)==1)\n",
    "    out = np.copy(s)\n",
    "    out[flag] = m.values[flag]\n",
    "    return out"
   ]
  },
  {
   "cell_type": "markdown",
   "metadata": {},
   "source": [
    "It uses a simplified version of my error flag function from Bruges to flag where to replace original curve with median"
   ]
  },
  {
   "cell_type": "code",
   "execution_count": 10,
   "metadata": {},
   "outputs": [],
   "source": [
    "def error_flag(pred, actual, dev = 1.0):\n",
    "    \"\"\"\n",
    "    Calculate the difference between a predicted and an actual curve \n",
    "    and return a log flagging large differences based on a user-defined distance \n",
    "    (in standard deviation units) from the mean difference\n",
    "    Matteo Niccoli, October 2018   \n",
    "    Args:\n",
    "        predicted (ndarray) = predicted log\n",
    "        actual (ndarray) =  original log  \n",
    "        dev  (float) = standard deviations to use, default 1\n",
    "    Returns:\n",
    "    flag (ndarray) =  error flag curve\n",
    "    \"\"\" \n",
    "    \n",
    "    flag = np.zeros(len(pred))\n",
    "    err = np.abs(pred-actual)\n",
    "    err_mean = np.mean(err)\n",
    "    err_std = np.std(err)\n",
    "    flag[np.where(err>(err_mean + (dev*err_std)))] = 1\n",
    "    return flag"
   ]
  },
  {
   "cell_type": "code",
   "execution_count": 11,
   "metadata": {},
   "outputs": [
    {
     "data": {
      "image/png": "[encoded data removed]",
      "text/plain": [
       "<Figure size 1584x432 with 1 Axes>"
      ]
     },
     "metadata": {
      "needs_background": "light"
     },
     "output_type": "display_data"
    }
   ],
   "source": [
    "plt.figure(figsize=(22,6))\n",
    "plt.plot(s, 'r', label='Original Vp')\n",
    "plt.plot(despike(s, 45, 2), 'k', label='Despiked Vp')\n",
    "plt.ylim(2800,6200)\n",
    "plt.legend();"
   ]
  },
  {
   "cell_type": "code",
   "execution_count": null,
   "metadata": {},
   "outputs": [],
   "source": []
  }
 ],
 "metadata": {
  "kernelspec": {
   "display_name": "py36",
   "language": "python",
   "name": "conda-env-py36-py"
  },
  "language_info": {
   "codemirror_mode": {
    "name": "ipython",
    "version": 3
   },
   "file_extension": ".py",
   "mimetype": "text/x-python",
   "name": "python",
   "nbconvert_exporter": "python",
   "pygments_lexer": "ipython3",
   "version": "3.6.8"
  }
 },
 "nbformat": 4,
 "nbformat_minor": 2
}
