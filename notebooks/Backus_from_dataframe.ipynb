{
 "cells": [
  {
   "cell_type": "markdown",
   "metadata": {},
   "source": [
    "#### Objective"
   ]
  },
  {
   "cell_type": "markdown",
   "metadata": {},
   "source": [
    "This notebook shows an example of how to:\n",
    "- Use Welly to load two wells with Vp, Vs, and RHOB curves\n",
    "- store the wells in Pandas DataFrames, the nconcatenate in a single Pandas DataFrame \n",
    "- filter and upscale with Backus average all curves individually, well by well, using Padas groupby "
   ]
  },
  {
   "cell_type": "markdown",
   "metadata": {},
   "source": [
    "#### Import libraries"
   ]
  },
  {
   "cell_type": "code",
   "execution_count": null,
   "metadata": {},
   "outputs": [],
   "source": [
    "import bruges as br\n",
    "import numpy as np\n",
    "import pandas as pd\n",
    "from welly import Well\n",
    "import matplotlib.pyplot as plt"
   ]
  },
  {
   "cell_type": "markdown",
   "metadata": {},
   "source": [
    "#### Import wells"
   ]
  },
  {
   "cell_type": "code",
   "execution_count": null,
   "metadata": {},
   "outputs": [],
   "source": [
    "R39 = Well.from_las('../data/R-39.las')"
   ]
  },
  {
   "cell_type": "code",
   "execution_count": null,
   "metadata": {},
   "outputs": [],
   "source": [
    "w129 = Well.from_las('../data/P-129_out.las')"
   ]
  },
  {
   "cell_type": "markdown",
   "metadata": {},
   "source": [
    "#### Data clean-up and manipulation"
   ]
  },
  {
   "cell_type": "markdown",
   "metadata": {},
   "source": [
    "- Make dataframes\n",
    "- Deal with null values\n",
    "- Select columns of interest\n",
    "- Convert slowness to velocity\n",
    "- Add well name column\n",
    "- Concatenate dataframes"
   ]
  },
  {
   "cell_type": "markdown",
   "metadata": {},
   "source": [
    "Make dataframes"
   ]
  },
  {
   "cell_type": "code",
   "execution_count": null,
   "metadata": {},
   "outputs": [],
   "source": [
    "w39_df = R39.df()\n",
    "w39_df = w39_df[['DT4P', 'DT4S', 'RHOB']]\n",
    "w39_df.columns = ['DT', 'DTS', 'RHOB']\n",
    "w39_df.describe(include = 'all')"
   ]
  },
  {
   "cell_type": "markdown",
   "metadata": {},
   "source": [
    "Checking for null values"
   ]
  },
  {
   "cell_type": "code",
   "execution_count": null,
   "metadata": {},
   "outputs": [],
   "source": [
    "for x in w39_df.columns:\n",
    "  print (x, w39_df[x].isnull().values.any())\n",
    "\n",
    "print(w39_df.isnull().sum()) # finds how many missing points there are"
   ]
  },
  {
   "cell_type": "markdown",
   "metadata": {},
   "source": [
    "There are no nulls in R-39"
   ]
  },
  {
   "cell_type": "code",
   "execution_count": null,
   "metadata": {},
   "outputs": [],
   "source": [
    "w129_df = w129.df()\n",
    "w129_df = w129_df[['DT', 'DTS', 'RHOB']]\n",
    "w129_df.describe(include = 'all')"
   ]
  },
  {
   "cell_type": "code",
   "execution_count": null,
   "metadata": {},
   "outputs": [],
   "source": [
    "for x in w129_df.columns:\n",
    "  print (x, w129_df[x].isnull().values.any())\n",
    "\n",
    "print(w129_df.isnull().sum()) # finds how many missing points there are"
   ]
  },
  {
   "cell_type": "markdown",
   "metadata": {},
   "source": [
    "It looks like there are several null values in P-129. Below we replace missing values with the mean, then check again"
   ]
  },
  {
   "cell_type": "code",
   "execution_count": null,
   "metadata": {
    "collapsed": false
   },
   "outputs": [],
   "source": [
    "w129_df['DT'].fillna(w129_df['DT'].mean(),inplace=True)\n",
    "w129_df['DTS'].fillna(w129_df['DTS'].mean(),inplace=True)\n",
    "w129_df['RHOB'].fillna(w129_df['RHOB'].mean(),inplace=True)\n",
    "\n",
    "for x in w129_df.columns:\n",
    "  print(x, w129_df[x].isnull().values.any())"
   ]
  },
  {
   "cell_type": "markdown",
   "metadata": {},
   "source": [
    "Convert slowness to velocity"
   ]
  },
  {
   "cell_type": "markdown",
   "metadata": {},
   "source": [
    "For well P-129: usec/ft >> m/s"
   ]
  },
  {
   "cell_type": "code",
   "execution_count": null,
   "metadata": {},
   "outputs": [],
   "source": [
    "w129_df['Vp'] = 3.048e5 / w129_df['DT'] \n",
    "w129_df['Vs'] = 3.048e5 / w129_df['DTS'] \n",
    "w129_df.describe(include = 'all')"
   ]
  },
  {
   "cell_type": "markdown",
   "metadata": {},
   "source": [
    "For well -39: usec/m >> m/s"
   ]
  },
  {
   "cell_type": "code",
   "execution_count": null,
   "metadata": {},
   "outputs": [],
   "source": [
    "w39_df['Vp'] = 1.0e6 / w39_df['DT'] \n",
    "w39_df['Vs'] = 1.0e6 / w39_df['DTS'] \n",
    "w39_df.describe(include = 'all')"
   ]
  },
  {
   "cell_type": "markdown",
   "metadata": {},
   "source": [
    "Add well name columns"
   ]
  },
  {
   "cell_type": "code",
   "execution_count": null,
   "metadata": {},
   "outputs": [],
   "source": [
    "w39_df['DEPTH'] = w39_df.index\n",
    "name = (['R-39']*len(w39_df))\n",
    "w39_df['well'] = name\n",
    "w39_df = w39_df.reset_index(drop=True)\n",
    "w39_df.describe(include = 'all')"
   ]
  },
  {
   "cell_type": "code",
   "execution_count": null,
   "metadata": {},
   "outputs": [],
   "source": [
    "w129_df['DEPTH'] = w129_df.index\n",
    "name = (['P-129']*len(w129_df))\n",
    "w129_df['well'] = name\n",
    "w129_df = w129_df.reset_index(drop=True)\n",
    "w129_df.describe(include = 'all')"
   ]
  },
  {
   "cell_type": "markdown",
   "metadata": {},
   "source": [
    "Concatenate dataframes drop slownness columns, sort columns"
   ]
  },
  {
   "cell_type": "code",
   "execution_count": null,
   "metadata": {},
   "outputs": [],
   "source": [
    "wells = pd.DataFrame()\n",
    "\n",
    "for i,df in enumerate([ w129_df, w39_df]):\n",
    "    wells=wells.append(df)   \n",
    "\n",
    "wells.drop(wells.columns[[0, 1]], inplace=True, axis=1) \n",
    "wells = wells[['DEPTH', 'Vp', 'Vs', 'RHOB', 'well']]    \n",
    "wells.describe(include = 'all')"
   ]
  },
  {
   "cell_type": "markdown",
   "metadata": {},
   "source": [
    "#### Despike Vp, Vs, and RHOB curves"
   ]
  },
  {
   "cell_type": "markdown",
   "metadata": {},
   "source": [
    "##### Logic:\n",
    "    group dataframe by well\n",
    "\n",
    "        for each well\n",
    "\n",
    "            for each of Vp, Vs, RHOB\n",
    "    \n",
    "                smooth log using Bruges' median"
   ]
  },
  {
   "cell_type": "code",
   "execution_count": null,
   "metadata": {},
   "outputs": [],
   "source": [
    "logs = ['Vp', 'Vs', 'RHOB']"
   ]
  },
  {
   "cell_type": "code",
   "execution_count": null,
   "metadata": {},
   "outputs": [],
   "source": [
    "window = 11"
   ]
  },
  {
   "cell_type": "code",
   "execution_count": null,
   "metadata": {},
   "outputs": [],
   "source": [
    "wells_sm = pd.DataFrame()\n",
    "\n",
    "grouped = wells['well'].unique()\n",
    "\n",
    "for well in grouped:    \n",
    "    new_df = pd.DataFrame()   \n",
    "    for log in logs:\n",
    "        sm = br.filters.mean(arr=pd.Series(wells[log][wells['well'] == well]), size= window)\n",
    "        new_df[str(log) + '_sm'] = sm \n",
    "    wells_sm = pd.concat([wells_sm, new_df])"
   ]
  },
  {
   "cell_type": "markdown",
   "metadata": {},
   "source": [
    "Combine DataFrame of smoothed curves with original DataFrame"
   ]
  },
  {
   "cell_type": "code",
   "execution_count": null,
   "metadata": {},
   "outputs": [],
   "source": [
    "wells_despiked = (np.concatenate((wells.values, wells_sm.values), axis=1))\n",
    "cols = list(wells) + list(wells_sm)\n",
    "wells_despiked_df = pd.DataFrame(wells_despiked, columns=cols)\n",
    "wells_despiked_df.describe()"
   ]
  },
  {
   "cell_type": "markdown",
   "metadata": {},
   "source": [
    "Make sure results make sense"
   ]
  },
  {
   "cell_type": "code",
   "execution_count": null,
   "metadata": {},
   "outputs": [],
   "source": [
    "fig = plt.figure(figsize=(6,10))\n",
    "ax0 = fig.add_subplot(121)\n",
    "ax0.plot(wells_despiked_df.loc[wells_despiked_df.well == 'P-129', 'Vp'], \n",
    "         wells_despiked_df.loc[wells_despiked_df.well == 'P-129', 'DEPTH'],\n",
    "                                 'gray', alpha=0.6, linewidth = 3, label='Vp')\n",
    "ax0.plot(wells_despiked_df.loc[wells_despiked_df.well == 'P-129', 'Vp_sm'], \n",
    "         wells_despiked_df.loc[wells_despiked_df.well == 'P-129', 'DEPTH'],\n",
    "                                 'k', linewidth = 1, label='despiked Vp')\n",
    "ax0.set_xlim([2500, 7500])\n",
    "ax0.legend( loc='upper left')\n",
    "ax0.set_title('Despiked Vp')\n",
    "ax0.set_ylabel(r'depth [m]', size=12)\n",
    "ax0.invert_yaxis()\n",
    "ax0.set_xlabel(r'Vp [m/s]', size=12)\n",
    "\n",
    "ax1 = fig.add_subplot(122)\n",
    "ax1.plot(wells_despiked_df.loc[wells_despiked_df.well == 'P-129', 'Vs'], \n",
    "         wells_despiked_df.loc[wells_despiked_df.well == 'P-129', 'DEPTH'],\n",
    "                                 'lightblue', alpha=0.6, linewidth = 3, label='Vs')\n",
    "ax1.plot(wells_despiked_df.loc[wells_despiked_df.well == 'P-129', 'Vs_sm'], \n",
    "         wells_despiked_df.loc[wells_despiked_df.well == 'P-129', 'DEPTH'],\n",
    "                                 'b', linewidth = 1, label='despiked Vs')\n",
    "ax1.set_xlim([1500, 4000])\n",
    "ax1.legend( loc='upper left')\n",
    "ax1.set_title('Despiked Vp')\n",
    "ax1.set_ylabel(r'depth [m]', size=12)\n",
    "ax1.invert_yaxis()\n",
    "ax1.set_xlabel(r'Vp [m/s]', size=12)\n",
    "\n",
    "plt.tight_layout()\n",
    "plt.show()"
   ]
  },
  {
   "cell_type": "code",
   "execution_count": null,
   "metadata": {},
   "outputs": [],
   "source": [
    "fig = plt.figure(figsize=(6,10))\n",
    "ax0 = fig.add_subplot(121)\n",
    "ax0.plot(wells_despiked_df.loc[wells_despiked_df.well == 'R-39', 'Vp'], \n",
    "         wells_despiked_df.loc[wells_despiked_df.well == 'R-39', 'DEPTH'],\n",
    "                                 'gray', alpha=0.6, linewidth = 3, label='Vp')\n",
    "ax0.plot(wells_despiked_df.loc[wells_despiked_df.well == 'R-39', 'Vp_sm'], \n",
    "         wells_despiked_df.loc[wells_despiked_df.well == 'R-39', 'DEPTH'],\n",
    "                                 'k', linewidth = 1, label='despiked Vp')\n",
    "ax0.set_xlim([2500, 7500])\n",
    "ax0.legend( loc='upper left')\n",
    "ax0.set_title('Despiked Vp')\n",
    "ax0.set_ylabel(r'depth [m]', size=12)\n",
    "ax0.invert_yaxis()\n",
    "ax0.set_xlabel(r'Vp [m/s]', size=12)\n",
    "\n",
    "ax1 = fig.add_subplot(122)\n",
    "ax1.plot(wells_despiked_df.loc[wells_despiked_df.well == 'R-39', 'Vs'], \n",
    "         wells_despiked_df.loc[wells_despiked_df.well == 'R-39', 'DEPTH'],\n",
    "                                 'lightblue', alpha=0.6, linewidth = 3, label='Vs')\n",
    "ax1.plot(wells_despiked_df.loc[wells_despiked_df.well == 'R-39', 'Vs_sm'], \n",
    "         wells_despiked_df.loc[wells_despiked_df.well == 'R-39', 'DEPTH'],\n",
    "                                 'b', linewidth = 1, label='despiked Vs')\n",
    "ax1.set_xlim([1500, 4000])\n",
    "ax1.legend( loc='upper left')\n",
    "ax1.set_title('Despiked Vp')\n",
    "ax1.set_ylabel(r'depth [m]', size=12)\n",
    "ax1.invert_yaxis()\n",
    "ax1.set_xlabel(r'Vs [m/s]', size=12)\n",
    "\n",
    "plt.tight_layout()\n",
    "plt.show()"
   ]
  },
  {
   "cell_type": "markdown",
   "metadata": {},
   "source": [
    "#### Upscale with Backus average Vp, Vs, and RHOB"
   ]
  },
  {
   "cell_type": "markdown",
   "metadata": {},
   "source": [
    "##### To be continued..."
   ]
  },
  {
   "cell_type": "code",
   "execution_count": null,
   "metadata": {},
   "outputs": [],
   "source": []
  }
 ],
 "metadata": {
  "kernelspec": {
   "display_name": "Python [conda env:bruges]",
   "language": "python",
   "name": "conda-env-bruges-py"
  },
  "language_info": {
   "codemirror_mode": {
    "name": "ipython",
    "version": 3
   },
   "file_extension": ".py",
   "mimetype": "text/x-python",
   "name": "python",
   "nbconvert_exporter": "python",
   "pygments_lexer": "ipython3",
   "version": "3.6.6"
  }
 },
 "nbformat": 4,
 "nbformat_minor": 2
}
