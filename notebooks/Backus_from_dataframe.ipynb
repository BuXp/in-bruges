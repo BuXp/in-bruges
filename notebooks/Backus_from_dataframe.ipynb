{
 "cells": [
  {
   "cell_type": "markdown",
   "metadata": {},
   "source": [
    "### Import libraries"
   ]
  },
  {
   "cell_type": "code",
   "execution_count": 2,
   "metadata": {},
   "outputs": [],
   "source": [
    "import bruges as br\n",
    "import numpy as np\n",
    "from welly import Well\n",
    "import matplotlib.pyplot as plt"
   ]
  },
  {
   "cell_type": "code",
   "execution_count": 4,
   "metadata": {},
   "outputs": [],
   "source": [
    "w129 = Well.from_las('../data/P-129_out.las')"
   ]
  },
  {
   "cell_type": "code",
   "execution_count": 9,
   "metadata": {},
   "outputs": [
    {
     "data": {
      "text/html": [
       "<div>\n",
       "<style scoped>\n",
       "    .dataframe tbody tr th:only-of-type {\n",
       "        vertical-align: middle;\n",
       "    }\n",
       "\n",
       "    .dataframe tbody tr th {\n",
       "        vertical-align: top;\n",
       "    }\n",
       "\n",
       "    .dataframe thead th {\n",
       "        text-align: right;\n",
       "    }\n",
       "</style>\n",
       "<table border=\"1\" class=\"dataframe\">\n",
       "  <thead>\n",
       "    <tr style=\"text-align: right;\">\n",
       "      <th></th>\n",
       "      <th>DT</th>\n",
       "      <th>DTS</th>\n",
       "      <th>RHOB</th>\n",
       "    </tr>\n",
       "  </thead>\n",
       "  <tbody>\n",
       "    <tr>\n",
       "      <th>count</th>\n",
       "      <td>10850.000000</td>\n",
       "      <td>10850.000000</td>\n",
       "      <td>12707.000000</td>\n",
       "    </tr>\n",
       "    <tr>\n",
       "      <th>mean</th>\n",
       "      <td>63.078827</td>\n",
       "      <td>107.128658</td>\n",
       "      <td>2.613912</td>\n",
       "    </tr>\n",
       "    <tr>\n",
       "      <th>std</th>\n",
       "      <td>6.529424</td>\n",
       "      <td>12.769174</td>\n",
       "      <td>0.254185</td>\n",
       "    </tr>\n",
       "    <tr>\n",
       "      <th>min</th>\n",
       "      <td>40.583134</td>\n",
       "      <td>78.108894</td>\n",
       "      <td>1.173953</td>\n",
       "    </tr>\n",
       "    <tr>\n",
       "      <th>25%</th>\n",
       "      <td>59.051755</td>\n",
       "      <td>95.865942</td>\n",
       "      <td>2.526586</td>\n",
       "    </tr>\n",
       "    <tr>\n",
       "      <th>50%</th>\n",
       "      <td>62.426868</td>\n",
       "      <td>104.755680</td>\n",
       "      <td>2.660130</td>\n",
       "    </tr>\n",
       "    <tr>\n",
       "      <th>75%</th>\n",
       "      <td>67.749138</td>\n",
       "      <td>117.113300</td>\n",
       "      <td>2.716321</td>\n",
       "    </tr>\n",
       "    <tr>\n",
       "      <th>max</th>\n",
       "      <td>112.469643</td>\n",
       "      <td>174.300812</td>\n",
       "      <td>4.628800</td>\n",
       "    </tr>\n",
       "  </tbody>\n",
       "</table>\n",
       "</div>"
      ],
      "text/plain": [
       "                 DT           DTS          RHOB\n",
       "count  10850.000000  10850.000000  12707.000000\n",
       "mean      63.078827    107.128658      2.613912\n",
       "std        6.529424     12.769174      0.254185\n",
       "min       40.583134     78.108894      1.173953\n",
       "25%       59.051755     95.865942      2.526586\n",
       "50%       62.426868    104.755680      2.660130\n",
       "75%       67.749138    117.113300      2.716321\n",
       "max      112.469643    174.300812      4.628800"
      ]
     },
     "execution_count": 9,
     "metadata": {},
     "output_type": "execute_result"
    }
   ],
   "source": [
    "w129_df = w129.df()\n",
    "w129_df = w129_df[['DT', 'DTS', 'RHOB']]\n",
    "w129_df.describe()"
   ]
  },
  {
   "cell_type": "code",
   "execution_count": 13,
   "metadata": {},
   "outputs": [],
   "source": [
    "R39 = Well.from_las('../data/R-39.las')"
   ]
  },
  {
   "cell_type": "code",
   "execution_count": 16,
   "metadata": {},
   "outputs": [
    {
     "data": {
      "text/html": [
       "<div>\n",
       "<style scoped>\n",
       "    .dataframe tbody tr th:only-of-type {\n",
       "        vertical-align: middle;\n",
       "    }\n",
       "\n",
       "    .dataframe tbody tr th {\n",
       "        vertical-align: top;\n",
       "    }\n",
       "\n",
       "    .dataframe thead th {\n",
       "        text-align: right;\n",
       "    }\n",
       "</style>\n",
       "<table border=\"1\" class=\"dataframe\">\n",
       "  <thead>\n",
       "    <tr style=\"text-align: right;\">\n",
       "      <th></th>\n",
       "      <th>DT</th>\n",
       "      <th>DS</th>\n",
       "      <th>RHOB</th>\n",
       "    </tr>\n",
       "  </thead>\n",
       "  <tbody>\n",
       "    <tr>\n",
       "      <th>count</th>\n",
       "      <td>7843.000000</td>\n",
       "      <td>7843.000000</td>\n",
       "      <td>7843.000000</td>\n",
       "    </tr>\n",
       "    <tr>\n",
       "      <th>mean</th>\n",
       "      <td>279.843323</td>\n",
       "      <td>455.340913</td>\n",
       "      <td>2493.556531</td>\n",
       "    </tr>\n",
       "    <tr>\n",
       "      <th>std</th>\n",
       "      <td>25.963527</td>\n",
       "      <td>439.113290</td>\n",
       "      <td>114.662210</td>\n",
       "    </tr>\n",
       "    <tr>\n",
       "      <th>min</th>\n",
       "      <td>166.347500</td>\n",
       "      <td>-3278.379200</td>\n",
       "      <td>2050.229000</td>\n",
       "    </tr>\n",
       "    <tr>\n",
       "      <th>25%</th>\n",
       "      <td>262.778350</td>\n",
       "      <td>461.351100</td>\n",
       "      <td>2450.387250</td>\n",
       "    </tr>\n",
       "    <tr>\n",
       "      <th>50%</th>\n",
       "      <td>284.251700</td>\n",
       "      <td>515.766000</td>\n",
       "      <td>2505.075000</td>\n",
       "    </tr>\n",
       "    <tr>\n",
       "      <th>75%</th>\n",
       "      <td>299.587350</td>\n",
       "      <td>555.725100</td>\n",
       "      <td>2569.123050</td>\n",
       "    </tr>\n",
       "    <tr>\n",
       "      <th>max</th>\n",
       "      <td>348.946300</td>\n",
       "      <td>590.522000</td>\n",
       "      <td>3144.669700</td>\n",
       "    </tr>\n",
       "  </tbody>\n",
       "</table>\n",
       "</div>"
      ],
      "text/plain": [
       "                DT           DS         RHOB\n",
       "count  7843.000000  7843.000000  7843.000000\n",
       "mean    279.843323   455.340913  2493.556531\n",
       "std      25.963527   439.113290   114.662210\n",
       "min     166.347500 -3278.379200  2050.229000\n",
       "25%     262.778350   461.351100  2450.387250\n",
       "50%     284.251700   515.766000  2505.075000\n",
       "75%     299.587350   555.725100  2569.123050\n",
       "max     348.946300   590.522000  3144.669700"
      ]
     },
     "execution_count": 16,
     "metadata": {},
     "output_type": "execute_result"
    }
   ],
   "source": [
    "w39_df = R39.df()\n",
    "w39_df = w39_df[['DT4P', 'DT4S', 'RHOB']]\n",
    "w39_df.columns = ['DT', 'DS', 'RHOB']\n",
    "w39_df.describe()"
   ]
  },
  {
   "cell_type": "code",
   "execution_count": 20,
   "metadata": {},
   "outputs": [
    {
     "data": {
      "image/png": "[encoded data removed]",
      "text/plain": [
       "<Figure size 288x576 with 1 Axes>"
      ]
     },
     "metadata": {
      "needs_background": "light"
     },
     "output_type": "display_data"
    }
   ],
   "source": [
    "fig = plt.figure(figsize=(4,8))\n",
    "ax1 = fig.add_subplot(111)\n",
    "\n",
    "ax1.plot([\"VP\"], w5_df.index.values,  color = 'k', alpha=0.5)\n",
    "plt.tight_layout()\n",
    "plt.gca().invert_yaxis()\n",
    "plt.show()"
   ]
  },
  {
   "cell_type": "markdown",
   "metadata": {},
   "source": [
    "### Import libraries"
   ]
  },
  {
   "cell_type": "raw",
   "metadata": {},
   "source": [
    "MEGA_D1 = pd.DataFrame()\n",
    "\n",
    "for i,df in enumerate([df0618, df1312, df01531, df0822, df0527, df0614, df1436, df021433, df0828]):\n",
    "    MEGA_D1=MEGA_D1.append(df)"
   ]
  },
  {
   "cell_type": "markdown",
   "metadata": {},
   "source": [
    "### Import libraries"
   ]
  },
  {
   "cell_type": "markdown",
   "metadata": {},
   "source": [
    "### Import libraries"
   ]
  },
  {
   "cell_type": "markdown",
   "metadata": {},
   "source": [
    "### Import libraries"
   ]
  },
  {
   "cell_type": "markdown",
   "metadata": {},
   "source": [
    "### Import libraries"
   ]
  },
  {
   "cell_type": "markdown",
   "metadata": {},
   "source": [
    "### Import libraries"
   ]
  }
 ],
 "metadata": {
  "kernelspec": {
   "display_name": "Python [conda env:bruges]",
   "language": "python",
   "name": "conda-env-bruges-py"
  },
  "language_info": {
   "codemirror_mode": {
    "name": "ipython",
    "version": 3
   },
   "file_extension": ".py",
   "mimetype": "text/x-python",
   "name": "python",
   "nbconvert_exporter": "python",
   "pygments_lexer": "ipython3",
   "version": "3.6.6"
  }
 },
 "nbformat": 4,
 "nbformat_minor": 2
}
