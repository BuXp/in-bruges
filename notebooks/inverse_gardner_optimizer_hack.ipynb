{
 "cells": [
  {
   "cell_type": "markdown",
   "metadata": {},
   "source": [
    "#### Objective"
   ]
  },
  {
   "cell_type": "markdown",
   "metadata": {},
   "source": [
    "Reconstruct a velocity log from density with optimized alpha and beta parameters for the Inverse Gardner function, found via `scipy.curve_fit`.\n",
    "\n",
    "Original idea adapted from a notebook by Alessandro Amato del Monte so that it would work with Bruges' Inverse Gardner function.\n",
    "\n",
    "The notebook accompanies [this blog post](https://mycarta.wordpress.com/2018/10/28/geophysics-python-sprint-2018-day-2-and-beyond-part-i/)."
   ]
  },
  {
   "cell_type": "markdown",
   "metadata": {},
   "source": [
    "#### Required libraries and functions"
   ]
  },
  {
   "cell_type": "code",
   "execution_count": 1,
   "metadata": {},
   "outputs": [],
   "source": [
    "import numpy as np\n",
    "from scipy.optimize import curve_fit\n",
    "import matplotlib.pyplot as plt\n",
    "%matplotlib inline"
   ]
  },
  {
   "cell_type": "markdown",
   "metadata": {},
   "source": [
    "#### Inverse Gardner function from AADM"
   ]
  },
  {
   "cell_type": "code",
   "execution_count": 2,
   "metadata": {},
   "outputs": [],
   "source": [
    "def inv_gardner(rho, alpha, beta):\n",
    "    return (rho/alpha)**(1/beta)"
   ]
  },
  {
   "cell_type": "markdown",
   "metadata": {},
   "source": [
    "#### Agile's Gardner function"
   ]
  },
  {
   "cell_type": "code",
   "execution_count": 3,
   "metadata": {},
   "outputs": [],
   "source": [
    " def inverse_gardner(rho, alpha=310, beta=0.25, fps=False):\n",
    "    \"\"\"\n",
    "    Computes Gardner's P-wave velocity prediction from density.\n",
    "    Args:\n",
    "        rho (ndarray): Density in kg/m^3.\n",
    "        alpha (float): The factor, 310 for m/s and 230 for fps.\n",
    "        beta (float): The exponent, usually 0.25.\n",
    "        fps (bool): Set to true for FPS and the equation will use the typical\n",
    "            value for alpha. Overrides value for alpha, so if you want to use\n",
    "            your own alpha, regardless of units, set this to False.\n",
    "        Returns:\n",
    "            ndarray: Vp estimate in m/s.\n",
    "    \"\"\"\n",
    "    alpha = 230 if fps else alpha\n",
    "    exponent = 1 / beta\n",
    "    factor = 1 / alpha**exponent\n",
    "    return factor * rho**exponent\n",
    "        "
   ]
  },
  {
   "cell_type": "markdown",
   "metadata": {},
   "source": [
    "Tesing they give same result"
   ]
  },
  {
   "cell_type": "code",
   "execution_count": 4,
   "metadata": {},
   "outputs": [
    {
     "data": {
      "text/plain": [
       "1.349846231542594e+16"
      ]
     },
     "execution_count": 4,
     "metadata": {},
     "output_type": "execute_result"
    }
   ],
   "source": [
    "inv_gardner(2000, 0.39, 0.23)"
   ]
  },
  {
   "cell_type": "code",
   "execution_count": 5,
   "metadata": {},
   "outputs": [
    {
     "data": {
      "text/plain": [
       "1.3498462315425942e+16"
      ]
     },
     "execution_count": 5,
     "metadata": {},
     "output_type": "execute_result"
    }
   ],
   "source": [
    "inverse_gardner(2000, 0.39, 0.23)"
   ]
  },
  {
   "cell_type": "markdown",
   "metadata": {},
   "source": [
    "#### Make up some random velocity and density using direct Gardner"
   ]
  },
  {
   "cell_type": "code",
   "execution_count": 6,
   "metadata": {},
   "outputs": [],
   "source": [
    "def gardner(vp, alpha=310, beta=0.25, fps=False):\n",
    "    \"\"\"\n",
    "    Computes Gardner's density prediction from P-wave velocity.\n",
    "    Args:\n",
    "        vp (ndarray): P-wave velocity in m/s.\n",
    "        alpha (float): The factor, 310 for m/s and 230 for ft/s.\n",
    "        beta (float): The exponent, usually 0.25.\n",
    "        fps (bool): Set to true for FPS and the equation will use the typical\n",
    "            value for alpha. Overrides value for alpha, so if you want to use\n",
    "            you own alpha, regardless of units, set this to False.\n",
    "    Returns:\n",
    "        ndarray: RHOB estimate in kg/m^3.\n",
    "    \"\"\"\n",
    "    alpha = 230 if fps else alpha\n",
    "    return alpha * vp ** beta"
   ]
  },
  {
   "cell_type": "code",
   "execution_count": 7,
   "metadata": {},
   "outputs": [
    {
     "name": "stdout",
     "output_type": "stream",
     "text": [
      "2294.256693926084\n",
      "2294.256693926084\n"
     ]
    }
   ],
   "source": [
    "# test\n",
    "print(310*3000**0.25)\n",
    "print(gardner(3000, 310, 0.25))"
   ]
  },
  {
   "cell_type": "code",
   "execution_count": 8,
   "metadata": {},
   "outputs": [],
   "source": [
    "vp_test=np.linspace(1500, 5500)\n",
    "#rho_test=(0.31*vp_test**0.25) \n",
    "rho_test=gardner(vp_test, 310, 0.25)\n",
    "noise=np.random.uniform(0.1,0.3,vp_test.shape)*1000\n",
    "#rho_test = (rho_test + noise )*1000\n",
    "rho_test += noise"
   ]
  },
  {
   "cell_type": "markdown",
   "metadata": {},
   "source": [
    "#### Split both density and velocity into an array for fitting for alpha and beta, and one for calculating \"unknown\" velocities"
   ]
  },
  {
   "cell_type": "code",
   "execution_count": 13,
   "metadata": {},
   "outputs": [],
   "source": [
    "idx = np.arange(len(vp_test))\n",
    "np.random.seed(3)\n",
    "spl1 = np.random.randint(0, len(vp_test), 15)\n",
    "spl2 = np.setxor1d(idx,spl1)\n",
    "vp1= vp_test[spl1] # this we pretend we do not have, we use at the end to validate the calculation, \n",
    "                         #to ensure it works as expected\n",
    "vp2= vp_test[spl2]\n",
    "rho1 = rho_test[spl1]\n",
    "rho2 = rho_test[spl2]"
   ]
  },
  {
   "cell_type": "markdown",
   "metadata": {},
   "source": [
    "#### Pass simple inverse Gardner function to curve_fit to find optimal alpha and beta parameters"
   ]
  },
  {
   "cell_type": "code",
   "execution_count": 17,
   "metadata": {},
   "outputs": [
    {
     "name": "stdout",
     "output_type": "stream",
     "text": [
      "[1.         0.29525991 1.        ]\n"
     ]
    },
    {
     "name": "stderr",
     "output_type": "stream",
     "text": [
      "/anaconda2/envs/py36/lib/python3.6/site-packages/scipy/optimize/minpack.py:794: OptimizeWarning: Covariance of the parameters could not be estimated\n",
      "  category=OptimizeWarning)\n"
     ]
    }
   ],
   "source": [
    "popt_synt2, pcov2 = curve_fit(inverse_gardner, rho2, vp2)\n",
    "print (popt_synt2)"
   ]
  },
  {
   "cell_type": "code",
   "execution_count": 18,
   "metadata": {},
   "outputs": [
    {
     "name": "stdout",
     "output_type": "stream",
     "text": [
      "[3.31376056e+02 2.51257203e-01]\n"
     ]
    }
   ],
   "source": [
    "popt_synt2, pcov2 = curve_fit(inv_gardner,rho2,vp2)\n",
    "print (popt_synt2)"
   ]
  },
  {
   "cell_type": "markdown",
   "metadata": {},
   "source": [
    "#### Use those optimal alpha and beta as parameters to calculate vp from density using simple inverse Gardner function"
   ]
  },
  {
   "cell_type": "code",
   "execution_count": 19,
   "metadata": {},
   "outputs": [],
   "source": [
    "vp_calc1 = inv_gardner(rho1, *popt_synt2)"
   ]
  },
  {
   "cell_type": "markdown",
   "metadata": {},
   "source": [
    "#### Plot to check results of calculation"
   ]
  },
  {
   "cell_type": "code",
   "execution_count": 20,
   "metadata": {},
   "outputs": [],
   "source": [
    "rho_synt_fit=np.linspace(1, 3000, 50)\n",
    "vp_synt_fit=inv_gardner(rho_synt_fit, *popt_synt2)"
   ]
  },
  {
   "cell_type": "code",
   "execution_count": 30,
   "metadata": {},
   "outputs": [
    {
     "data": {
      "image/png": "[encoded data removed]",
      "text/plain": [
       "<Figure size 720x720 with 1 Axes>"
      ]
     },
     "metadata": {},
     "output_type": "display_data"
    }
   ],
   "source": [
    "plt.figure(figsize=(10,10))\n",
    "plt.plot(rho2,vp2,'or', markersize = 10, label = \"fitted points\")                   # this is the data used for fitting\n",
    "plt.plot(rho1,vp_calc1,'ob', markersize = 10, alpha = 0.4, label = \"calculated points\")  # this is calculated vp\n",
    "plt.plot(rho1,vp1,'ok', markersize = 10, label = \"withheld points\")               # this is the validation data\n",
    "plt.plot(rho_synt_fit, vp_synt_fit, '-r', lw=2, \n",
    "         label='Fit  ' r'$ V_p = (%.2f / \\rho)^{1/%.2f}$' % (popt_synt2[0], \n",
    "                                                     popt_synt2[1]))\n",
    "plt.xlabel('Density rho [kg/m^3]'), plt.xlim(1800,3000)\n",
    "plt.ylabel('Velocty Vp [m/s]'), plt.ylim(1000,6000)\n",
    "plt.grid()\n",
    "plt.legend(loc='center left')\n",
    "plt.savefig('plot.png', dpi=300, bbox_inches='tight', pad_inches=0.1)\n",
    "plt.show()\n"
   ]
  },
  {
   "cell_type": "markdown",
   "metadata": {},
   "source": [
    "#### Optimizer wrapper that will map between the call signature of curve_fit and the call signature of Agile's inverse_gardner so the latter can be passed to curve_fit "
   ]
  },
  {
   "cell_type": "code",
   "execution_count": 31,
   "metadata": {},
   "outputs": [],
   "source": [
    "def optimize_inverse_gardner(rho, alpha, beta):\n",
    "    return inverse_gardner(rho, alpha=alpha, beta=beta)"
   ]
  },
  {
   "cell_type": "markdown",
   "metadata": {},
   "source": [
    "#### Test we get the same result"
   ]
  },
  {
   "cell_type": "code",
   "execution_count": 32,
   "metadata": {},
   "outputs": [
    {
     "name": "stdout",
     "output_type": "stream",
     "text": [
      "[3.31376060e+02 2.51257202e-01]\n"
     ]
    }
   ],
   "source": [
    "popt_synt2, pcov2 = scipy.curve_fit(optimize_inverse_gardner, \n",
    "                                    rho2, vp2) \n",
    "print (popt_synt2)"
   ]
  },
  {
   "cell_type": "markdown",
   "metadata": {},
   "source": [
    "#### Success!!"
   ]
  }
 ],
 "metadata": {
  "kernelspec": {
   "display_name": "py36",
   "language": "python",
   "name": "conda-env-py36-py"
  },
  "language_info": {
   "codemirror_mode": {
    "name": "ipython",
    "version": 3
   },
   "file_extension": ".py",
   "mimetype": "text/x-python",
   "name": "python",
   "nbconvert_exporter": "python",
   "pygments_lexer": "ipython3",
   "version": "3.6.8"
  }
 },
 "nbformat": 4,
 "nbformat_minor": 2
}
